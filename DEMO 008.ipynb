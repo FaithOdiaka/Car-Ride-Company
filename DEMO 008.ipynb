{
 "cells": [
  {
   "cell_type": "markdown",
   "id": "edef4b75",
   "metadata": {},
   "source": [
    "***IMPORTING THE MODULES***"
   ]
  },
  {
   "cell_type": "code",
   "execution_count": 1,
   "id": "cb5b1048",
   "metadata": {},
   "outputs": [
    {
     "name": "stdout",
     "output_type": "stream",
     "text": [
      "C:\\Users\\user\n"
     ]
    }
   ],
   "source": [
    "import pandas as pd\n",
    "import numpy as np\n",
    " \n",
    "import matplotlib.pyplot as plt\n",
    "plt.style.use('fivethirtyeight')\n",
    "import seaborn as sns\n",
    "\n",
    "import os\n",
    "print(os.getcwd())"
   ]
  },
  {
   "cell_type": "markdown",
   "id": "337e7d7c",
   "metadata": {},
   "source": [
    "***DATA IMPORT***"
   ]
  },
  {
   "cell_type": "code",
   "execution_count": 2,
   "id": "059146ec",
   "metadata": {},
   "outputs": [],
   "source": [
    "url = 'https://raw.githubusercontent.com/vkoul/data/main/misc/ride_data.csv'\n",
    "\n",
    "df = pd.read_csv(url)"
   ]
  },
  {
   "cell_type": "code",
   "execution_count": 3,
   "id": "79e27d30",
   "metadata": {},
   "outputs": [
    {
     "data": {
      "text/html": [
       "<div>\n",
       "<style scoped>\n",
       "    .dataframe tbody tr th:only-of-type {\n",
       "        vertical-align: middle;\n",
       "    }\n",
       "\n",
       "    .dataframe tbody tr th {\n",
       "        vertical-align: top;\n",
       "    }\n",
       "\n",
       "    .dataframe thead th {\n",
       "        text-align: right;\n",
       "    }\n",
       "</style>\n",
       "<table border=\"1\" class=\"dataframe\">\n",
       "  <thead>\n",
       "    <tr style=\"text-align: right;\">\n",
       "      <th></th>\n",
       "      <th>Request id</th>\n",
       "      <th>Pickup point</th>\n",
       "      <th>Driver id</th>\n",
       "      <th>Status</th>\n",
       "      <th>Request timestamp</th>\n",
       "      <th>Drop timestamp</th>\n",
       "    </tr>\n",
       "  </thead>\n",
       "  <tbody>\n",
       "    <tr>\n",
       "      <th>0</th>\n",
       "      <td>1</td>\n",
       "      <td>Airport</td>\n",
       "      <td>285.0</td>\n",
       "      <td>Trip Completed</td>\n",
       "      <td>11/07/2016 00:20</td>\n",
       "      <td>11/07/2016 00:51</td>\n",
       "    </tr>\n",
       "    <tr>\n",
       "      <th>1</th>\n",
       "      <td>2</td>\n",
       "      <td>Airport</td>\n",
       "      <td>NaN</td>\n",
       "      <td>No Cars Available</td>\n",
       "      <td>11/07/2016 00:23</td>\n",
       "      <td>NaN</td>\n",
       "    </tr>\n",
       "    <tr>\n",
       "      <th>2</th>\n",
       "      <td>3</td>\n",
       "      <td>Airport</td>\n",
       "      <td>80.0</td>\n",
       "      <td>Trip Completed</td>\n",
       "      <td>11/07/2016 00:24</td>\n",
       "      <td>11/07/2016 01:31</td>\n",
       "    </tr>\n",
       "    <tr>\n",
       "      <th>3</th>\n",
       "      <td>4</td>\n",
       "      <td>City</td>\n",
       "      <td>NaN</td>\n",
       "      <td>No Cars Available</td>\n",
       "      <td>11/07/2016 00:37</td>\n",
       "      <td>NaN</td>\n",
       "    </tr>\n",
       "    <tr>\n",
       "      <th>4</th>\n",
       "      <td>5</td>\n",
       "      <td>Airport</td>\n",
       "      <td>264.0</td>\n",
       "      <td>Trip Completed</td>\n",
       "      <td>11/07/2016 00:36</td>\n",
       "      <td>11/07/2016 01:35</td>\n",
       "    </tr>\n",
       "  </tbody>\n",
       "</table>\n",
       "</div>"
      ],
      "text/plain": [
       "   Request id Pickup point  Driver id             Status Request timestamp  \\\n",
       "0           1      Airport      285.0     Trip Completed  11/07/2016 00:20   \n",
       "1           2      Airport        NaN  No Cars Available  11/07/2016 00:23   \n",
       "2           3      Airport       80.0     Trip Completed  11/07/2016 00:24   \n",
       "3           4         City        NaN  No Cars Available  11/07/2016 00:37   \n",
       "4           5      Airport      264.0     Trip Completed  11/07/2016 00:36   \n",
       "\n",
       "     Drop timestamp  \n",
       "0  11/07/2016 00:51  \n",
       "1               NaN  \n",
       "2  11/07/2016 01:31  \n",
       "3               NaN  \n",
       "4  11/07/2016 01:35  "
      ]
     },
     "execution_count": 3,
     "metadata": {},
     "output_type": "execute_result"
    }
   ],
   "source": [
    "df.head()"
   ]
  },
  {
   "cell_type": "markdown",
   "id": "59b03c8d",
   "metadata": {},
   "source": [
    "***Data Quality Check***"
   ]
  },
  {
   "cell_type": "code",
   "execution_count": 4,
   "id": "d750db7e",
   "metadata": {},
   "outputs": [
    {
     "data": {
      "text/plain": [
       "(6745, 6)"
      ]
     },
     "execution_count": 4,
     "metadata": {},
     "output_type": "execute_result"
    }
   ],
   "source": [
    "df.shape"
   ]
  },
  {
   "cell_type": "code",
   "execution_count": 5,
   "id": "4e37826d",
   "metadata": {},
   "outputs": [
    {
     "name": "stdout",
     "output_type": "stream",
     "text": [
      "<class 'pandas.core.frame.DataFrame'>\n",
      "RangeIndex: 6745 entries, 0 to 6744\n",
      "Data columns (total 6 columns):\n",
      " #   Column             Non-Null Count  Dtype  \n",
      "---  ------             --------------  -----  \n",
      " 0   Request id         6745 non-null   int64  \n",
      " 1   Pickup point       6745 non-null   object \n",
      " 2   Driver id          4095 non-null   float64\n",
      " 3   Status             6745 non-null   object \n",
      " 4   Request timestamp  6745 non-null   object \n",
      " 5   Drop timestamp     2831 non-null   object \n",
      "dtypes: float64(1), int64(1), object(4)\n",
      "memory usage: 316.3+ KB\n"
     ]
    }
   ],
   "source": [
    "df.info()\n",
    "#The columns 'Request Timestamp' amd 'Drop timestamp' have been read as objects; we will use the 'date parser' to fix this error while reading int h"
   ]
  },
  {
   "cell_type": "code",
   "execution_count": 6,
   "id": "093f1813",
   "metadata": {},
   "outputs": [],
   "source": [
    "df['Request timestamp'] = pd.to_datetime(df['Request timestamp'])\n",
    "df['Drop timestamp'] = pd.to_datetime(df['Drop timestamp'])"
   ]
  },
  {
   "cell_type": "code",
   "execution_count": 7,
   "id": "703e9a71",
   "metadata": {},
   "outputs": [
    {
     "name": "stdout",
     "output_type": "stream",
     "text": [
      "<class 'pandas.core.frame.DataFrame'>\n",
      "RangeIndex: 6745 entries, 0 to 6744\n",
      "Data columns (total 6 columns):\n",
      " #   Column             Non-Null Count  Dtype         \n",
      "---  ------             --------------  -----         \n",
      " 0   Request id         6745 non-null   int64         \n",
      " 1   Pickup point       6745 non-null   object        \n",
      " 2   Driver id          4095 non-null   float64       \n",
      " 3   Status             6745 non-null   object        \n",
      " 4   Request timestamp  6745 non-null   datetime64[ns]\n",
      " 5   Drop timestamp     2831 non-null   datetime64[ns]\n",
      "dtypes: datetime64[ns](2), float64(1), int64(1), object(2)\n",
      "memory usage: 316.3+ KB\n"
     ]
    }
   ],
   "source": [
    "df.info()\n",
    "# we see that that error has been fixed"
   ]
  },
  {
   "cell_type": "code",
   "execution_count": 8,
   "id": "e57d2668",
   "metadata": {},
   "outputs": [
    {
     "data": {
      "text/plain": [
       "0"
      ]
     },
     "execution_count": 8,
     "metadata": {},
     "output_type": "execute_result"
    }
   ],
   "source": [
    "df.duplicated().sum()\n",
    "#checking for duplicated entries"
   ]
  },
  {
   "cell_type": "code",
   "execution_count": 9,
   "id": "49795067",
   "metadata": {},
   "outputs": [
    {
     "data": {
      "text/plain": [
       "Request id              0\n",
       "Pickup point            0\n",
       "Driver id            2650\n",
       "Status                  0\n",
       "Request timestamp       0\n",
       "Drop timestamp       3914\n",
       "dtype: int64"
      ]
     },
     "execution_count": 9,
     "metadata": {},
     "output_type": "execute_result"
    }
   ],
   "source": [
    "df.isnull().sum()\n",
    "#checking for null values"
   ]
  },
  {
   "cell_type": "code",
   "execution_count": 12,
   "id": "94045050",
   "metadata": {},
   "outputs": [
    {
     "data": {
      "text/plain": [
       "Request id            0.000000\n",
       "Pickup point          0.000000\n",
       "Driver id            39.288362\n",
       "Status                0.000000\n",
       "Request timestamp     0.000000\n",
       "Drop timestamp       58.028169\n",
       "dtype: float64"
      ]
     },
     "execution_count": 12,
     "metadata": {},
     "output_type": "execute_result"
    }
   ],
   "source": [
    "df.isnull().mean()*100\n",
    "#Getting the percentage of the missing values\n",
    "#Domain knowledge is required to know why 'driver id' and 'drop timestamp' has so many null values"
   ]
  },
  {
   "cell_type": "code",
   "execution_count": 13,
   "id": "ae075485",
   "metadata": {},
   "outputs": [
    {
     "data": {
      "text/html": [
       "<div>\n",
       "<style scoped>\n",
       "    .dataframe tbody tr th:only-of-type {\n",
       "        vertical-align: middle;\n",
       "    }\n",
       "\n",
       "    .dataframe tbody tr th {\n",
       "        vertical-align: top;\n",
       "    }\n",
       "\n",
       "    .dataframe thead th {\n",
       "        text-align: right;\n",
       "    }\n",
       "</style>\n",
       "<table border=\"1\" class=\"dataframe\">\n",
       "  <thead>\n",
       "    <tr style=\"text-align: right;\">\n",
       "      <th></th>\n",
       "      <th>Request id</th>\n",
       "      <th>Pickup point</th>\n",
       "      <th>Driver id</th>\n",
       "      <th>Status</th>\n",
       "      <th>Request timestamp</th>\n",
       "      <th>Drop timestamp</th>\n",
       "    </tr>\n",
       "  </thead>\n",
       "  <tbody>\n",
       "    <tr>\n",
       "      <th>0</th>\n",
       "      <td>1</td>\n",
       "      <td>Airport</td>\n",
       "      <td>285.0</td>\n",
       "      <td>Trip Completed</td>\n",
       "      <td>2016-11-07 00:20:00</td>\n",
       "      <td>2016-11-07 00:51:00</td>\n",
       "    </tr>\n",
       "    <tr>\n",
       "      <th>1</th>\n",
       "      <td>2</td>\n",
       "      <td>Airport</td>\n",
       "      <td>NaN</td>\n",
       "      <td>No Cars Available</td>\n",
       "      <td>2016-11-07 00:23:00</td>\n",
       "      <td>NaT</td>\n",
       "    </tr>\n",
       "    <tr>\n",
       "      <th>2</th>\n",
       "      <td>3</td>\n",
       "      <td>Airport</td>\n",
       "      <td>80.0</td>\n",
       "      <td>Trip Completed</td>\n",
       "      <td>2016-11-07 00:24:00</td>\n",
       "      <td>2016-11-07 01:31:00</td>\n",
       "    </tr>\n",
       "    <tr>\n",
       "      <th>3</th>\n",
       "      <td>4</td>\n",
       "      <td>City</td>\n",
       "      <td>NaN</td>\n",
       "      <td>No Cars Available</td>\n",
       "      <td>2016-11-07 00:37:00</td>\n",
       "      <td>NaT</td>\n",
       "    </tr>\n",
       "    <tr>\n",
       "      <th>4</th>\n",
       "      <td>5</td>\n",
       "      <td>Airport</td>\n",
       "      <td>264.0</td>\n",
       "      <td>Trip Completed</td>\n",
       "      <td>2016-11-07 00:36:00</td>\n",
       "      <td>2016-11-07 01:35:00</td>\n",
       "    </tr>\n",
       "    <tr>\n",
       "      <th>...</th>\n",
       "      <td>...</td>\n",
       "      <td>...</td>\n",
       "      <td>...</td>\n",
       "      <td>...</td>\n",
       "      <td>...</td>\n",
       "      <td>...</td>\n",
       "    </tr>\n",
       "    <tr>\n",
       "      <th>6740</th>\n",
       "      <td>6762</td>\n",
       "      <td>Airport</td>\n",
       "      <td>267.0</td>\n",
       "      <td>Trip Completed</td>\n",
       "      <td>2016-07-15 00:07:00</td>\n",
       "      <td>2016-07-15 00:52:00</td>\n",
       "    </tr>\n",
       "    <tr>\n",
       "      <th>6741</th>\n",
       "      <td>6763</td>\n",
       "      <td>City</td>\n",
       "      <td>224.0</td>\n",
       "      <td>Trip Completed</td>\n",
       "      <td>2016-07-15 00:04:00</td>\n",
       "      <td>2016-07-15 01:06:00</td>\n",
       "    </tr>\n",
       "    <tr>\n",
       "      <th>6742</th>\n",
       "      <td>6764</td>\n",
       "      <td>City</td>\n",
       "      <td>243.0</td>\n",
       "      <td>Trip Completed</td>\n",
       "      <td>2016-07-15 00:06:00</td>\n",
       "      <td>2016-07-15 01:17:00</td>\n",
       "    </tr>\n",
       "    <tr>\n",
       "      <th>6743</th>\n",
       "      <td>6765</td>\n",
       "      <td>Airport</td>\n",
       "      <td>NaN</td>\n",
       "      <td>No Cars Available</td>\n",
       "      <td>2016-07-15 00:09:00</td>\n",
       "      <td>NaT</td>\n",
       "    </tr>\n",
       "    <tr>\n",
       "      <th>6744</th>\n",
       "      <td>6766</td>\n",
       "      <td>City</td>\n",
       "      <td>108.0</td>\n",
       "      <td>Trip Completed</td>\n",
       "      <td>2016-07-15 00:06:00</td>\n",
       "      <td>2016-07-15 01:10:00</td>\n",
       "    </tr>\n",
       "  </tbody>\n",
       "</table>\n",
       "<p>6745 rows × 6 columns</p>\n",
       "</div>"
      ],
      "text/plain": [
       "      Request id Pickup point  Driver id             Status  \\\n",
       "0              1      Airport      285.0     Trip Completed   \n",
       "1              2      Airport        NaN  No Cars Available   \n",
       "2              3      Airport       80.0     Trip Completed   \n",
       "3              4         City        NaN  No Cars Available   \n",
       "4              5      Airport      264.0     Trip Completed   \n",
       "...          ...          ...        ...                ...   \n",
       "6740        6762      Airport      267.0     Trip Completed   \n",
       "6741        6763         City      224.0     Trip Completed   \n",
       "6742        6764         City      243.0     Trip Completed   \n",
       "6743        6765      Airport        NaN  No Cars Available   \n",
       "6744        6766         City      108.0     Trip Completed   \n",
       "\n",
       "       Request timestamp      Drop timestamp  \n",
       "0    2016-11-07 00:20:00 2016-11-07 00:51:00  \n",
       "1    2016-11-07 00:23:00                 NaT  \n",
       "2    2016-11-07 00:24:00 2016-11-07 01:31:00  \n",
       "3    2016-11-07 00:37:00                 NaT  \n",
       "4    2016-11-07 00:36:00 2016-11-07 01:35:00  \n",
       "...                  ...                 ...  \n",
       "6740 2016-07-15 00:07:00 2016-07-15 00:52:00  \n",
       "6741 2016-07-15 00:04:00 2016-07-15 01:06:00  \n",
       "6742 2016-07-15 00:06:00 2016-07-15 01:17:00  \n",
       "6743 2016-07-15 00:09:00                 NaT  \n",
       "6744 2016-07-15 00:06:00 2016-07-15 01:10:00  \n",
       "\n",
       "[6745 rows x 6 columns]"
      ]
     },
     "execution_count": 13,
     "metadata": {},
     "output_type": "execute_result"
    }
   ],
   "source": [
    "df"
   ]
  },
  {
   "cell_type": "markdown",
   "id": "22b7ccef",
   "metadata": {},
   "source": [
    "***Data Cleaning***"
   ]
  },
  {
   "cell_type": "code",
   "execution_count": 14,
   "id": "3026eb99",
   "metadata": {},
   "outputs": [
    {
     "data": {
      "text/plain": [
       "Index(['Request id', 'Pickup point', 'Driver id', 'Status',\n",
       "       'Request timestamp', 'Drop timestamp'],\n",
       "      dtype='object')"
      ]
     },
     "execution_count": 14,
     "metadata": {},
     "output_type": "execute_result"
    }
   ],
   "source": [
    "df.columns"
   ]
  },
  {
   "cell_type": "code",
   "execution_count": 16,
   "id": "d6a1674d",
   "metadata": {},
   "outputs": [
    {
     "data": {
      "text/plain": [
       "Index(['request id', 'pickup point', 'driver id', 'status',\n",
       "       'request timestamp', 'drop timestamp'],\n",
       "      dtype='object')"
      ]
     },
     "execution_count": 16,
     "metadata": {},
     "output_type": "execute_result"
    }
   ],
   "source": [
    "df.columns = df.columns.str.lower()\n",
    "#renaming the columns\n",
    "df.columns"
   ]
  },
  {
   "cell_type": "code",
   "execution_count": 17,
   "id": "4aee8c41",
   "metadata": {},
   "outputs": [],
   "source": [
    "df.columns = ['request_id', 'pickup_point', 'driver_id', 'status', 'request_timestamp', 'drop_timestamp']"
   ]
  },
  {
   "cell_type": "code",
   "execution_count": 19,
   "id": "5f21d764",
   "metadata": {},
   "outputs": [
    {
     "data": {
      "text/html": [
       "<div>\n",
       "<style scoped>\n",
       "    .dataframe tbody tr th:only-of-type {\n",
       "        vertical-align: middle;\n",
       "    }\n",
       "\n",
       "    .dataframe tbody tr th {\n",
       "        vertical-align: top;\n",
       "    }\n",
       "\n",
       "    .dataframe thead th {\n",
       "        text-align: right;\n",
       "    }\n",
       "</style>\n",
       "<table border=\"1\" class=\"dataframe\">\n",
       "  <thead>\n",
       "    <tr style=\"text-align: right;\">\n",
       "      <th></th>\n",
       "      <th>request_id</th>\n",
       "      <th>pickup_point</th>\n",
       "      <th>driver_id</th>\n",
       "      <th>status</th>\n",
       "      <th>request_timestamp</th>\n",
       "      <th>drop_timestamp</th>\n",
       "    </tr>\n",
       "  </thead>\n",
       "  <tbody>\n",
       "    <tr>\n",
       "      <th>0</th>\n",
       "      <td>1</td>\n",
       "      <td>Airport</td>\n",
       "      <td>285.0</td>\n",
       "      <td>Trip Completed</td>\n",
       "      <td>2016-11-07 00:20:00</td>\n",
       "      <td>2016-11-07 00:51:00</td>\n",
       "    </tr>\n",
       "    <tr>\n",
       "      <th>1</th>\n",
       "      <td>2</td>\n",
       "      <td>Airport</td>\n",
       "      <td>NaN</td>\n",
       "      <td>No Cars Available</td>\n",
       "      <td>2016-11-07 00:23:00</td>\n",
       "      <td>NaT</td>\n",
       "    </tr>\n",
       "    <tr>\n",
       "      <th>2</th>\n",
       "      <td>3</td>\n",
       "      <td>Airport</td>\n",
       "      <td>80.0</td>\n",
       "      <td>Trip Completed</td>\n",
       "      <td>2016-11-07 00:24:00</td>\n",
       "      <td>2016-11-07 01:31:00</td>\n",
       "    </tr>\n",
       "    <tr>\n",
       "      <th>3</th>\n",
       "      <td>4</td>\n",
       "      <td>City</td>\n",
       "      <td>NaN</td>\n",
       "      <td>No Cars Available</td>\n",
       "      <td>2016-11-07 00:37:00</td>\n",
       "      <td>NaT</td>\n",
       "    </tr>\n",
       "    <tr>\n",
       "      <th>4</th>\n",
       "      <td>5</td>\n",
       "      <td>Airport</td>\n",
       "      <td>264.0</td>\n",
       "      <td>Trip Completed</td>\n",
       "      <td>2016-11-07 00:36:00</td>\n",
       "      <td>2016-11-07 01:35:00</td>\n",
       "    </tr>\n",
       "  </tbody>\n",
       "</table>\n",
       "</div>"
      ],
      "text/plain": [
       "   request_id pickup_point  driver_id             status   request_timestamp  \\\n",
       "0           1      Airport      285.0     Trip Completed 2016-11-07 00:20:00   \n",
       "1           2      Airport        NaN  No Cars Available 2016-11-07 00:23:00   \n",
       "2           3      Airport       80.0     Trip Completed 2016-11-07 00:24:00   \n",
       "3           4         City        NaN  No Cars Available 2016-11-07 00:37:00   \n",
       "4           5      Airport      264.0     Trip Completed 2016-11-07 00:36:00   \n",
       "\n",
       "       drop_timestamp  \n",
       "0 2016-11-07 00:51:00  \n",
       "1                 NaT  \n",
       "2 2016-11-07 01:31:00  \n",
       "3                 NaT  \n",
       "4 2016-11-07 01:35:00  "
      ]
     },
     "execution_count": 19,
     "metadata": {},
     "output_type": "execute_result"
    }
   ],
   "source": [
    "df.head()"
   ]
  },
  {
   "cell_type": "markdown",
   "id": "f75a6c46",
   "metadata": {},
   "source": [
    "***Extracting relevant columns from the timestamp columns***\n",
    "\n",
    "**Request Timestamp**"
   ]
  },
  {
   "cell_type": "code",
   "execution_count": 55,
   "id": "7e72024d",
   "metadata": {},
   "outputs": [],
   "source": [
    "#we will need these columns to extract relevant insights\n",
    "df['request_year'] = df['request_timestamp'].dt.year\n",
    "df['request_month'] = df['request_timestamp'].dt.month_name()\n",
    "df['request_dayname'] = df['request_timestamp'].dt.day_name()\n",
    "df['request_hour'] = df['request_timestamp'].dt.hour"
   ]
  },
  {
   "cell_type": "code",
   "execution_count": 56,
   "id": "4e246394",
   "metadata": {},
   "outputs": [
    {
     "data": {
      "text/html": [
       "<div>\n",
       "<style scoped>\n",
       "    .dataframe tbody tr th:only-of-type {\n",
       "        vertical-align: middle;\n",
       "    }\n",
       "\n",
       "    .dataframe tbody tr th {\n",
       "        vertical-align: top;\n",
       "    }\n",
       "\n",
       "    .dataframe thead th {\n",
       "        text-align: right;\n",
       "    }\n",
       "</style>\n",
       "<table border=\"1\" class=\"dataframe\">\n",
       "  <thead>\n",
       "    <tr style=\"text-align: right;\">\n",
       "      <th></th>\n",
       "      <th>request_id</th>\n",
       "      <th>pickup_point</th>\n",
       "      <th>driver_id</th>\n",
       "      <th>status</th>\n",
       "      <th>request_timestamp</th>\n",
       "      <th>drop_timestamp</th>\n",
       "      <th>request_year</th>\n",
       "      <th>request_month</th>\n",
       "      <th>request_dayname</th>\n",
       "      <th>request_hour</th>\n",
       "      <th>drop_year</th>\n",
       "      <th>drop_dayname</th>\n",
       "      <th>time_stamp</th>\n",
       "    </tr>\n",
       "  </thead>\n",
       "  <tbody>\n",
       "    <tr>\n",
       "      <th>0</th>\n",
       "      <td>1</td>\n",
       "      <td>Airport</td>\n",
       "      <td>285.0</td>\n",
       "      <td>Trip Completed</td>\n",
       "      <td>2016-11-07 00:20:00</td>\n",
       "      <td>2016-11-07 00:51:00</td>\n",
       "      <td>2016</td>\n",
       "      <td>November</td>\n",
       "      <td>Monday</td>\n",
       "      <td>0</td>\n",
       "      <td>2016.0</td>\n",
       "      <td>Monday</td>\n",
       "      <td>-1 days +23:29:00</td>\n",
       "    </tr>\n",
       "    <tr>\n",
       "      <th>1</th>\n",
       "      <td>2</td>\n",
       "      <td>Airport</td>\n",
       "      <td>NaN</td>\n",
       "      <td>No Cars Available</td>\n",
       "      <td>2016-11-07 00:23:00</td>\n",
       "      <td>NaT</td>\n",
       "      <td>2016</td>\n",
       "      <td>November</td>\n",
       "      <td>Monday</td>\n",
       "      <td>0</td>\n",
       "      <td>NaN</td>\n",
       "      <td>NaN</td>\n",
       "      <td>NaT</td>\n",
       "    </tr>\n",
       "    <tr>\n",
       "      <th>2</th>\n",
       "      <td>3</td>\n",
       "      <td>Airport</td>\n",
       "      <td>80.0</td>\n",
       "      <td>Trip Completed</td>\n",
       "      <td>2016-11-07 00:24:00</td>\n",
       "      <td>2016-11-07 01:31:00</td>\n",
       "      <td>2016</td>\n",
       "      <td>November</td>\n",
       "      <td>Monday</td>\n",
       "      <td>0</td>\n",
       "      <td>2016.0</td>\n",
       "      <td>Monday</td>\n",
       "      <td>-1 days +22:53:00</td>\n",
       "    </tr>\n",
       "    <tr>\n",
       "      <th>3</th>\n",
       "      <td>4</td>\n",
       "      <td>City</td>\n",
       "      <td>NaN</td>\n",
       "      <td>No Cars Available</td>\n",
       "      <td>2016-11-07 00:37:00</td>\n",
       "      <td>NaT</td>\n",
       "      <td>2016</td>\n",
       "      <td>November</td>\n",
       "      <td>Monday</td>\n",
       "      <td>0</td>\n",
       "      <td>NaN</td>\n",
       "      <td>NaN</td>\n",
       "      <td>NaT</td>\n",
       "    </tr>\n",
       "    <tr>\n",
       "      <th>4</th>\n",
       "      <td>5</td>\n",
       "      <td>Airport</td>\n",
       "      <td>264.0</td>\n",
       "      <td>Trip Completed</td>\n",
       "      <td>2016-11-07 00:36:00</td>\n",
       "      <td>2016-11-07 01:35:00</td>\n",
       "      <td>2016</td>\n",
       "      <td>November</td>\n",
       "      <td>Monday</td>\n",
       "      <td>0</td>\n",
       "      <td>2016.0</td>\n",
       "      <td>Monday</td>\n",
       "      <td>-1 days +23:01:00</td>\n",
       "    </tr>\n",
       "  </tbody>\n",
       "</table>\n",
       "</div>"
      ],
      "text/plain": [
       "   request_id pickup_point  driver_id             status   request_timestamp  \\\n",
       "0           1      Airport      285.0     Trip Completed 2016-11-07 00:20:00   \n",
       "1           2      Airport        NaN  No Cars Available 2016-11-07 00:23:00   \n",
       "2           3      Airport       80.0     Trip Completed 2016-11-07 00:24:00   \n",
       "3           4         City        NaN  No Cars Available 2016-11-07 00:37:00   \n",
       "4           5      Airport      264.0     Trip Completed 2016-11-07 00:36:00   \n",
       "\n",
       "       drop_timestamp  request_year request_month request_dayname  \\\n",
       "0 2016-11-07 00:51:00          2016      November          Monday   \n",
       "1                 NaT          2016      November          Monday   \n",
       "2 2016-11-07 01:31:00          2016      November          Monday   \n",
       "3                 NaT          2016      November          Monday   \n",
       "4 2016-11-07 01:35:00          2016      November          Monday   \n",
       "\n",
       "   request_hour  drop_year drop_dayname        time_stamp  \n",
       "0             0     2016.0       Monday -1 days +23:29:00  \n",
       "1             0        NaN          NaN               NaT  \n",
       "2             0     2016.0       Monday -1 days +22:53:00  \n",
       "3             0        NaN          NaN               NaT  \n",
       "4             0     2016.0       Monday -1 days +23:01:00  "
      ]
     },
     "execution_count": 56,
     "metadata": {},
     "output_type": "execute_result"
    }
   ],
   "source": [
    "df.head()"
   ]
  },
  {
   "cell_type": "markdown",
   "id": "3b83fa14",
   "metadata": {},
   "source": [
    "**Drop Timestamp**"
   ]
  },
  {
   "cell_type": "code",
   "execution_count": 22,
   "id": "09419a9f",
   "metadata": {},
   "outputs": [],
   "source": [
    "df['drop_year'] = df['drop_timestamp'].dt.year\n",
    "df['drop_dayname'] = df['drop_timestamp'].dt.day_name()"
   ]
  },
  {
   "cell_type": "code",
   "execution_count": 23,
   "id": "1acfc7ec",
   "metadata": {},
   "outputs": [],
   "source": [
    "df['time_stamp'] = (df['request_timestamp'] - df['drop_timestamp'])"
   ]
  },
  {
   "cell_type": "code",
   "execution_count": 57,
   "id": "94132a37",
   "metadata": {
    "scrolled": true
   },
   "outputs": [
    {
     "data": {
      "text/html": [
       "<div>\n",
       "<style scoped>\n",
       "    .dataframe tbody tr th:only-of-type {\n",
       "        vertical-align: middle;\n",
       "    }\n",
       "\n",
       "    .dataframe tbody tr th {\n",
       "        vertical-align: top;\n",
       "    }\n",
       "\n",
       "    .dataframe thead th {\n",
       "        text-align: right;\n",
       "    }\n",
       "</style>\n",
       "<table border=\"1\" class=\"dataframe\">\n",
       "  <thead>\n",
       "    <tr style=\"text-align: right;\">\n",
       "      <th></th>\n",
       "      <th>request_id</th>\n",
       "      <th>pickup_point</th>\n",
       "      <th>driver_id</th>\n",
       "      <th>status</th>\n",
       "      <th>request_timestamp</th>\n",
       "      <th>drop_timestamp</th>\n",
       "      <th>request_year</th>\n",
       "      <th>request_month</th>\n",
       "      <th>request_dayname</th>\n",
       "      <th>request_hour</th>\n",
       "      <th>drop_year</th>\n",
       "      <th>drop_dayname</th>\n",
       "      <th>time_stamp</th>\n",
       "    </tr>\n",
       "  </thead>\n",
       "  <tbody>\n",
       "    <tr>\n",
       "      <th>6740</th>\n",
       "      <td>6762</td>\n",
       "      <td>Airport</td>\n",
       "      <td>267.0</td>\n",
       "      <td>Trip Completed</td>\n",
       "      <td>2016-07-15 00:07:00</td>\n",
       "      <td>2016-07-15 00:52:00</td>\n",
       "      <td>2016</td>\n",
       "      <td>July</td>\n",
       "      <td>Friday</td>\n",
       "      <td>0</td>\n",
       "      <td>2016.0</td>\n",
       "      <td>Friday</td>\n",
       "      <td>-1 days +23:15:00</td>\n",
       "    </tr>\n",
       "    <tr>\n",
       "      <th>6741</th>\n",
       "      <td>6763</td>\n",
       "      <td>City</td>\n",
       "      <td>224.0</td>\n",
       "      <td>Trip Completed</td>\n",
       "      <td>2016-07-15 00:04:00</td>\n",
       "      <td>2016-07-15 01:06:00</td>\n",
       "      <td>2016</td>\n",
       "      <td>July</td>\n",
       "      <td>Friday</td>\n",
       "      <td>0</td>\n",
       "      <td>2016.0</td>\n",
       "      <td>Friday</td>\n",
       "      <td>-1 days +22:58:00</td>\n",
       "    </tr>\n",
       "    <tr>\n",
       "      <th>6742</th>\n",
       "      <td>6764</td>\n",
       "      <td>City</td>\n",
       "      <td>243.0</td>\n",
       "      <td>Trip Completed</td>\n",
       "      <td>2016-07-15 00:06:00</td>\n",
       "      <td>2016-07-15 01:17:00</td>\n",
       "      <td>2016</td>\n",
       "      <td>July</td>\n",
       "      <td>Friday</td>\n",
       "      <td>0</td>\n",
       "      <td>2016.0</td>\n",
       "      <td>Friday</td>\n",
       "      <td>-1 days +22:49:00</td>\n",
       "    </tr>\n",
       "    <tr>\n",
       "      <th>6743</th>\n",
       "      <td>6765</td>\n",
       "      <td>Airport</td>\n",
       "      <td>NaN</td>\n",
       "      <td>No Cars Available</td>\n",
       "      <td>2016-07-15 00:09:00</td>\n",
       "      <td>NaT</td>\n",
       "      <td>2016</td>\n",
       "      <td>July</td>\n",
       "      <td>Friday</td>\n",
       "      <td>0</td>\n",
       "      <td>NaN</td>\n",
       "      <td>NaN</td>\n",
       "      <td>NaT</td>\n",
       "    </tr>\n",
       "    <tr>\n",
       "      <th>6744</th>\n",
       "      <td>6766</td>\n",
       "      <td>City</td>\n",
       "      <td>108.0</td>\n",
       "      <td>Trip Completed</td>\n",
       "      <td>2016-07-15 00:06:00</td>\n",
       "      <td>2016-07-15 01:10:00</td>\n",
       "      <td>2016</td>\n",
       "      <td>July</td>\n",
       "      <td>Friday</td>\n",
       "      <td>0</td>\n",
       "      <td>2016.0</td>\n",
       "      <td>Friday</td>\n",
       "      <td>-1 days +22:56:00</td>\n",
       "    </tr>\n",
       "  </tbody>\n",
       "</table>\n",
       "</div>"
      ],
      "text/plain": [
       "      request_id pickup_point  driver_id             status  \\\n",
       "6740        6762      Airport      267.0     Trip Completed   \n",
       "6741        6763         City      224.0     Trip Completed   \n",
       "6742        6764         City      243.0     Trip Completed   \n",
       "6743        6765      Airport        NaN  No Cars Available   \n",
       "6744        6766         City      108.0     Trip Completed   \n",
       "\n",
       "       request_timestamp      drop_timestamp  request_year request_month  \\\n",
       "6740 2016-07-15 00:07:00 2016-07-15 00:52:00          2016          July   \n",
       "6741 2016-07-15 00:04:00 2016-07-15 01:06:00          2016          July   \n",
       "6742 2016-07-15 00:06:00 2016-07-15 01:17:00          2016          July   \n",
       "6743 2016-07-15 00:09:00                 NaT          2016          July   \n",
       "6744 2016-07-15 00:06:00 2016-07-15 01:10:00          2016          July   \n",
       "\n",
       "     request_dayname  request_hour  drop_year drop_dayname        time_stamp  \n",
       "6740          Friday             0     2016.0       Friday -1 days +23:15:00  \n",
       "6741          Friday             0     2016.0       Friday -1 days +22:58:00  \n",
       "6742          Friday             0     2016.0       Friday -1 days +22:49:00  \n",
       "6743          Friday             0        NaN          NaN               NaT  \n",
       "6744          Friday             0     2016.0       Friday -1 days +22:56:00  "
      ]
     },
     "execution_count": 57,
     "metadata": {},
     "output_type": "execute_result"
    }
   ],
   "source": [
    "df.tail()"
   ]
  },
  {
   "cell_type": "code",
   "execution_count": 58,
   "id": "b04bea86",
   "metadata": {},
   "outputs": [
    {
     "name": "stdout",
     "output_type": "stream",
     "text": [
      "<class 'pandas.core.frame.DataFrame'>\n",
      "RangeIndex: 6745 entries, 0 to 6744\n",
      "Data columns (total 13 columns):\n",
      " #   Column             Non-Null Count  Dtype          \n",
      "---  ------             --------------  -----          \n",
      " 0   request_id         6745 non-null   int64          \n",
      " 1   pickup_point       6745 non-null   object         \n",
      " 2   driver_id          4095 non-null   float64        \n",
      " 3   status             6745 non-null   object         \n",
      " 4   request_timestamp  6745 non-null   datetime64[ns] \n",
      " 5   drop_timestamp     2831 non-null   datetime64[ns] \n",
      " 6   request_year       6745 non-null   int64          \n",
      " 7   request_month      6745 non-null   object         \n",
      " 8   request_dayname    6745 non-null   object         \n",
      " 9   request_hour       6745 non-null   int64          \n",
      " 10  drop_year          2831 non-null   float64        \n",
      " 11  drop_dayname       2831 non-null   object         \n",
      " 12  time_stamp         2831 non-null   timedelta64[ns]\n",
      "dtypes: datetime64[ns](2), float64(2), int64(3), object(5), timedelta64[ns](1)\n",
      "memory usage: 685.2+ KB\n"
     ]
    }
   ],
   "source": [
    "df.info()"
   ]
  },
  {
   "cell_type": "markdown",
   "id": "9605360b",
   "metadata": {},
   "source": [
    "**EDA**"
   ]
  },
  {
   "cell_type": "code",
   "execution_count": 59,
   "id": "2e8a46c4",
   "metadata": {},
   "outputs": [
    {
     "data": {
      "text/html": [
       "<div>\n",
       "<style scoped>\n",
       "    .dataframe tbody tr th:only-of-type {\n",
       "        vertical-align: middle;\n",
       "    }\n",
       "\n",
       "    .dataframe tbody tr th {\n",
       "        vertical-align: top;\n",
       "    }\n",
       "\n",
       "    .dataframe thead th {\n",
       "        text-align: right;\n",
       "    }\n",
       "</style>\n",
       "<table border=\"1\" class=\"dataframe\">\n",
       "  <thead>\n",
       "    <tr style=\"text-align: right;\">\n",
       "      <th></th>\n",
       "      <th>request_id</th>\n",
       "      <th>driver_id</th>\n",
       "      <th>request_year</th>\n",
       "      <th>request_hour</th>\n",
       "      <th>drop_year</th>\n",
       "      <th>time_stamp</th>\n",
       "    </tr>\n",
       "  </thead>\n",
       "  <tbody>\n",
       "    <tr>\n",
       "      <th>count</th>\n",
       "      <td>6745.000000</td>\n",
       "      <td>4095.000000</td>\n",
       "      <td>6745.0</td>\n",
       "      <td>6745.000000</td>\n",
       "      <td>2831.0</td>\n",
       "      <td>2831</td>\n",
       "    </tr>\n",
       "    <tr>\n",
       "      <th>mean</th>\n",
       "      <td>3384.644922</td>\n",
       "      <td>149.501343</td>\n",
       "      <td>2016.0</td>\n",
       "      <td>12.956709</td>\n",
       "      <td>2016.0</td>\n",
       "      <td>0 days 10:45:58.240904274</td>\n",
       "    </tr>\n",
       "    <tr>\n",
       "      <th>std</th>\n",
       "      <td>1955.099667</td>\n",
       "      <td>86.051994</td>\n",
       "      <td>0.0</td>\n",
       "      <td>6.504052</td>\n",
       "      <td>0.0</td>\n",
       "      <td>10 days 07:07:53.473784496</td>\n",
       "    </tr>\n",
       "    <tr>\n",
       "      <th>min</th>\n",
       "      <td>1.000000</td>\n",
       "      <td>1.000000</td>\n",
       "      <td>2016.0</td>\n",
       "      <td>0.000000</td>\n",
       "      <td>2016.0</td>\n",
       "      <td>-30 days +22:45:00</td>\n",
       "    </tr>\n",
       "    <tr>\n",
       "      <th>25%</th>\n",
       "      <td>1691.000000</td>\n",
       "      <td>75.000000</td>\n",
       "      <td>2016.0</td>\n",
       "      <td>7.000000</td>\n",
       "      <td>2016.0</td>\n",
       "      <td>-1 days +22:56:00</td>\n",
       "    </tr>\n",
       "    <tr>\n",
       "      <th>50%</th>\n",
       "      <td>3387.000000</td>\n",
       "      <td>149.000000</td>\n",
       "      <td>2016.0</td>\n",
       "      <td>13.000000</td>\n",
       "      <td>2016.0</td>\n",
       "      <td>-1 days +23:08:00</td>\n",
       "    </tr>\n",
       "    <tr>\n",
       "      <th>75%</th>\n",
       "      <td>5080.000000</td>\n",
       "      <td>224.000000</td>\n",
       "      <td>2016.0</td>\n",
       "      <td>19.000000</td>\n",
       "      <td>2016.0</td>\n",
       "      <td>-1 days +23:19:00</td>\n",
       "    </tr>\n",
       "    <tr>\n",
       "      <th>max</th>\n",
       "      <td>6766.000000</td>\n",
       "      <td>300.000000</td>\n",
       "      <td>2016.0</td>\n",
       "      <td>23.000000</td>\n",
       "      <td>2016.0</td>\n",
       "      <td>147 days 23:27:00</td>\n",
       "    </tr>\n",
       "  </tbody>\n",
       "</table>\n",
       "</div>"
      ],
      "text/plain": [
       "        request_id    driver_id  request_year  request_hour  drop_year  \\\n",
       "count  6745.000000  4095.000000        6745.0   6745.000000     2831.0   \n",
       "mean   3384.644922   149.501343        2016.0     12.956709     2016.0   \n",
       "std    1955.099667    86.051994           0.0      6.504052        0.0   \n",
       "min       1.000000     1.000000        2016.0      0.000000     2016.0   \n",
       "25%    1691.000000    75.000000        2016.0      7.000000     2016.0   \n",
       "50%    3387.000000   149.000000        2016.0     13.000000     2016.0   \n",
       "75%    5080.000000   224.000000        2016.0     19.000000     2016.0   \n",
       "max    6766.000000   300.000000        2016.0     23.000000     2016.0   \n",
       "\n",
       "                       time_stamp  \n",
       "count                        2831  \n",
       "mean    0 days 10:45:58.240904274  \n",
       "std    10 days 07:07:53.473784496  \n",
       "min            -30 days +22:45:00  \n",
       "25%             -1 days +22:56:00  \n",
       "50%             -1 days +23:08:00  \n",
       "75%             -1 days +23:19:00  \n",
       "max             147 days 23:27:00  "
      ]
     },
     "execution_count": 59,
     "metadata": {},
     "output_type": "execute_result"
    }
   ],
   "source": [
    "df.describe()"
   ]
  },
  {
   "cell_type": "code",
   "execution_count": 60,
   "id": "d6b893c5",
   "metadata": {},
   "outputs": [
    {
     "data": {
      "text/html": [
       "<div>\n",
       "<style scoped>\n",
       "    .dataframe tbody tr th:only-of-type {\n",
       "        vertical-align: middle;\n",
       "    }\n",
       "\n",
       "    .dataframe tbody tr th {\n",
       "        vertical-align: top;\n",
       "    }\n",
       "\n",
       "    .dataframe thead th {\n",
       "        text-align: right;\n",
       "    }\n",
       "</style>\n",
       "<table border=\"1\" class=\"dataframe\">\n",
       "  <thead>\n",
       "    <tr style=\"text-align: right;\">\n",
       "      <th></th>\n",
       "      <th>pickup_point</th>\n",
       "      <th>status</th>\n",
       "      <th>request_month</th>\n",
       "      <th>request_dayname</th>\n",
       "      <th>drop_dayname</th>\n",
       "    </tr>\n",
       "  </thead>\n",
       "  <tbody>\n",
       "    <tr>\n",
       "      <th>count</th>\n",
       "      <td>6745</td>\n",
       "      <td>6745</td>\n",
       "      <td>6745</td>\n",
       "      <td>6745</td>\n",
       "      <td>2831</td>\n",
       "    </tr>\n",
       "    <tr>\n",
       "      <th>unique</th>\n",
       "      <td>2</td>\n",
       "      <td>3</td>\n",
       "      <td>3</td>\n",
       "      <td>4</td>\n",
       "      <td>5</td>\n",
       "    </tr>\n",
       "    <tr>\n",
       "      <th>top</th>\n",
       "      <td>City</td>\n",
       "      <td>Trip Completed</td>\n",
       "      <td>July</td>\n",
       "      <td>Wednesday</td>\n",
       "      <td>Wednesday</td>\n",
       "    </tr>\n",
       "    <tr>\n",
       "      <th>freq</th>\n",
       "      <td>3507</td>\n",
       "      <td>2831</td>\n",
       "      <td>4071</td>\n",
       "      <td>2644</td>\n",
       "      <td>1137</td>\n",
       "    </tr>\n",
       "  </tbody>\n",
       "</table>\n",
       "</div>"
      ],
      "text/plain": [
       "       pickup_point          status request_month request_dayname drop_dayname\n",
       "count          6745            6745          6745            6745         2831\n",
       "unique            2               3             3               4            5\n",
       "top            City  Trip Completed          July       Wednesday    Wednesday\n",
       "freq           3507            2831          4071            2644         1137"
      ]
     },
     "execution_count": 60,
     "metadata": {},
     "output_type": "execute_result"
    }
   ],
   "source": [
    "df.describe(include = 'O')\n",
    "#getting a descriptive summary for the categorical data"
   ]
  },
  {
   "cell_type": "code",
   "execution_count": 61,
   "id": "b95a9f70",
   "metadata": {},
   "outputs": [
    {
     "data": {
      "text/plain": [
       "array(['Monday', 'Wednesday', 'Thursday', 'Friday'], dtype=object)"
      ]
     },
     "execution_count": 61,
     "metadata": {},
     "output_type": "execute_result"
    }
   ],
   "source": [
    "df['request_dayname'].unique()\n",
    "#Tells us which days of the week the drivers work"
   ]
  },
  {
   "cell_type": "code",
   "execution_count": 62,
   "id": "722dbf82",
   "metadata": {},
   "outputs": [
    {
     "data": {
      "text/plain": [
       "1"
      ]
     },
     "execution_count": 62,
     "metadata": {},
     "output_type": "execute_result"
    }
   ],
   "source": [
    "df['request_year'].nunique()"
   ]
  },
  {
   "cell_type": "code",
   "execution_count": 63,
   "id": "30690b6c",
   "metadata": {},
   "outputs": [
    {
     "data": {
      "text/plain": [
       "array([2016], dtype=int64)"
      ]
     },
     "execution_count": 63,
     "metadata": {},
     "output_type": "execute_result"
    }
   ],
   "source": [
    "df['request_year'].unique()"
   ]
  },
  {
   "cell_type": "code",
   "execution_count": 64,
   "id": "5c78762e",
   "metadata": {},
   "outputs": [
    {
     "data": {
      "text/html": [
       "<div>\n",
       "<style scoped>\n",
       "    .dataframe tbody tr th:only-of-type {\n",
       "        vertical-align: middle;\n",
       "    }\n",
       "\n",
       "    .dataframe tbody tr th {\n",
       "        vertical-align: top;\n",
       "    }\n",
       "\n",
       "    .dataframe thead th {\n",
       "        text-align: right;\n",
       "    }\n",
       "</style>\n",
       "<table border=\"1\" class=\"dataframe\">\n",
       "  <thead>\n",
       "    <tr style=\"text-align: right;\">\n",
       "      <th>pickup_point</th>\n",
       "      <th>Airport</th>\n",
       "      <th>City</th>\n",
       "    </tr>\n",
       "    <tr>\n",
       "      <th>status</th>\n",
       "      <th></th>\n",
       "      <th></th>\n",
       "    </tr>\n",
       "  </thead>\n",
       "  <tbody>\n",
       "    <tr>\n",
       "      <th>Cancelled</th>\n",
       "      <td>198</td>\n",
       "      <td>1066</td>\n",
       "    </tr>\n",
       "    <tr>\n",
       "      <th>No Cars Available</th>\n",
       "      <td>1713</td>\n",
       "      <td>937</td>\n",
       "    </tr>\n",
       "    <tr>\n",
       "      <th>Trip Completed</th>\n",
       "      <td>1327</td>\n",
       "      <td>1504</td>\n",
       "    </tr>\n",
       "  </tbody>\n",
       "</table>\n",
       "</div>"
      ],
      "text/plain": [
       "pickup_point       Airport  City\n",
       "status                          \n",
       "Cancelled              198  1066\n",
       "No Cars Available     1713   937\n",
       "Trip Completed        1327  1504"
      ]
     },
     "execution_count": 64,
     "metadata": {},
     "output_type": "execute_result"
    }
   ],
   "source": [
    "#Is there a relationship between pick-up points and the trip status?\n",
    "pd.crosstab(df['pickup_point'], df['status']).transpose()"
   ]
  },
  {
   "cell_type": "code",
   "execution_count": 65,
   "id": "66d10266",
   "metadata": {},
   "outputs": [
    {
     "data": {
      "text/plain": [
       "Trip Completed       2831\n",
       "No Cars Available    2650\n",
       "Cancelled            1264\n",
       "Name: status, dtype: int64"
      ]
     },
     "execution_count": 65,
     "metadata": {},
     "output_type": "execute_result"
    }
   ],
   "source": [
    "df['status'].value_counts()"
   ]
  },
  {
   "cell_type": "code",
   "execution_count": 66,
   "id": "aca2ac79",
   "metadata": {},
   "outputs": [
    {
     "data": {
      "text/plain": [
       "Trip Completed       0.419718\n",
       "No Cars Available    0.392884\n",
       "Cancelled            0.187398\n",
       "Name: status, dtype: float64"
      ]
     },
     "execution_count": 66,
     "metadata": {},
     "output_type": "execute_result"
    }
   ],
   "source": [
    "df['status'].value_counts(normalize = True)"
   ]
  },
  {
   "cell_type": "code",
   "execution_count": 67,
   "id": "41c30109",
   "metadata": {},
   "outputs": [
    {
     "data": {
      "image/png": "[encoded data removed]",
      "text/plain": [
       "<Figure size 432x288 with 1 Axes>"
      ]
     },
     "metadata": {},
     "output_type": "display_data"
    }
   ],
   "source": [
    "df['status'].value_counts(normalize = True).plot(kind = 'bar');"
   ]
  },
  {
   "cell_type": "markdown",
   "id": "34c85aa9",
   "metadata": {},
   "source": [
    "***Determining The Busy Hours and their relationship with the trip status***"
   ]
  },
  {
   "cell_type": "code",
   "execution_count": 68,
   "id": "a90e9573",
   "metadata": {},
   "outputs": [
    {
     "data": {
      "image/png": "[encoded data removed]",
      "text/plain": [
       "<Figure size 720x360 with 1 Axes>"
      ]
     },
     "metadata": {},
     "output_type": "display_data"
    }
   ],
   "source": [
    "plt.figure(figsize = (10, 5))\n",
    "plt.xticks([2,4,6,8,10,12,14,16,18,20,22,24])\n",
    "df.groupby('request_hour')['request_id'].count().plot(kind = 'line');\n",
    "#This shows us that the peak hours are from 5 to 9 in the morning, and then 5 to 9 at night.\n"
   ]
  },
  {
   "cell_type": "code",
   "execution_count": 69,
   "id": "c6a82b6f",
   "metadata": {},
   "outputs": [
    {
     "data": {
      "text/html": [
       "<div>\n",
       "<style scoped>\n",
       "    .dataframe tbody tr th:only-of-type {\n",
       "        vertical-align: middle;\n",
       "    }\n",
       "\n",
       "    .dataframe tbody tr th {\n",
       "        vertical-align: top;\n",
       "    }\n",
       "\n",
       "    .dataframe thead th {\n",
       "        text-align: right;\n",
       "    }\n",
       "</style>\n",
       "<table border=\"1\" class=\"dataframe\">\n",
       "  <thead>\n",
       "    <tr style=\"text-align: right;\">\n",
       "      <th>status</th>\n",
       "      <th>Cancelled</th>\n",
       "      <th>No Cars Available</th>\n",
       "      <th>Trip Completed</th>\n",
       "    </tr>\n",
       "    <tr>\n",
       "      <th>request_hour</th>\n",
       "      <th></th>\n",
       "      <th></th>\n",
       "      <th></th>\n",
       "    </tr>\n",
       "  </thead>\n",
       "  <tbody>\n",
       "    <tr>\n",
       "      <th>0</th>\n",
       "      <td>3</td>\n",
       "      <td>56</td>\n",
       "      <td>40</td>\n",
       "    </tr>\n",
       "    <tr>\n",
       "      <th>1</th>\n",
       "      <td>4</td>\n",
       "      <td>56</td>\n",
       "      <td>25</td>\n",
       "    </tr>\n",
       "    <tr>\n",
       "      <th>2</th>\n",
       "      <td>5</td>\n",
       "      <td>57</td>\n",
       "      <td>37</td>\n",
       "    </tr>\n",
       "    <tr>\n",
       "      <th>3</th>\n",
       "      <td>2</td>\n",
       "      <td>56</td>\n",
       "      <td>34</td>\n",
       "    </tr>\n",
       "    <tr>\n",
       "      <th>4</th>\n",
       "      <td>51</td>\n",
       "      <td>74</td>\n",
       "      <td>78</td>\n",
       "    </tr>\n",
       "    <tr>\n",
       "      <th>5</th>\n",
       "      <td>176</td>\n",
       "      <td>84</td>\n",
       "      <td>185</td>\n",
       "    </tr>\n",
       "    <tr>\n",
       "      <th>6</th>\n",
       "      <td>145</td>\n",
       "      <td>86</td>\n",
       "      <td>167</td>\n",
       "    </tr>\n",
       "    <tr>\n",
       "      <th>7</th>\n",
       "      <td>169</td>\n",
       "      <td>63</td>\n",
       "      <td>174</td>\n",
       "    </tr>\n",
       "    <tr>\n",
       "      <th>8</th>\n",
       "      <td>178</td>\n",
       "      <td>90</td>\n",
       "      <td>155</td>\n",
       "    </tr>\n",
       "    <tr>\n",
       "      <th>9</th>\n",
       "      <td>175</td>\n",
       "      <td>83</td>\n",
       "      <td>173</td>\n",
       "    </tr>\n",
       "    <tr>\n",
       "      <th>10</th>\n",
       "      <td>62</td>\n",
       "      <td>65</td>\n",
       "      <td>116</td>\n",
       "    </tr>\n",
       "    <tr>\n",
       "      <th>11</th>\n",
       "      <td>15</td>\n",
       "      <td>41</td>\n",
       "      <td>115</td>\n",
       "    </tr>\n",
       "    <tr>\n",
       "      <th>12</th>\n",
       "      <td>19</td>\n",
       "      <td>44</td>\n",
       "      <td>121</td>\n",
       "    </tr>\n",
       "    <tr>\n",
       "      <th>13</th>\n",
       "      <td>18</td>\n",
       "      <td>53</td>\n",
       "      <td>89</td>\n",
       "    </tr>\n",
       "    <tr>\n",
       "      <th>14</th>\n",
       "      <td>11</td>\n",
       "      <td>37</td>\n",
       "      <td>88</td>\n",
       "    </tr>\n",
       "    <tr>\n",
       "      <th>15</th>\n",
       "      <td>21</td>\n",
       "      <td>48</td>\n",
       "      <td>102</td>\n",
       "    </tr>\n",
       "    <tr>\n",
       "      <th>16</th>\n",
       "      <td>22</td>\n",
       "      <td>46</td>\n",
       "      <td>91</td>\n",
       "    </tr>\n",
       "    <tr>\n",
       "      <th>17</th>\n",
       "      <td>35</td>\n",
       "      <td>232</td>\n",
       "      <td>151</td>\n",
       "    </tr>\n",
       "    <tr>\n",
       "      <th>18</th>\n",
       "      <td>24</td>\n",
       "      <td>322</td>\n",
       "      <td>164</td>\n",
       "    </tr>\n",
       "    <tr>\n",
       "      <th>19</th>\n",
       "      <td>24</td>\n",
       "      <td>283</td>\n",
       "      <td>166</td>\n",
       "    </tr>\n",
       "    <tr>\n",
       "      <th>20</th>\n",
       "      <td>41</td>\n",
       "      <td>290</td>\n",
       "      <td>161</td>\n",
       "    </tr>\n",
       "    <tr>\n",
       "      <th>21</th>\n",
       "      <td>42</td>\n",
       "      <td>265</td>\n",
       "      <td>142</td>\n",
       "    </tr>\n",
       "    <tr>\n",
       "      <th>22</th>\n",
       "      <td>12</td>\n",
       "      <td>138</td>\n",
       "      <td>154</td>\n",
       "    </tr>\n",
       "    <tr>\n",
       "      <th>23</th>\n",
       "      <td>10</td>\n",
       "      <td>81</td>\n",
       "      <td>103</td>\n",
       "    </tr>\n",
       "  </tbody>\n",
       "</table>\n",
       "</div>"
      ],
      "text/plain": [
       "status        Cancelled  No Cars Available  Trip Completed\n",
       "request_hour                                              \n",
       "0                     3                 56              40\n",
       "1                     4                 56              25\n",
       "2                     5                 57              37\n",
       "3                     2                 56              34\n",
       "4                    51                 74              78\n",
       "5                   176                 84             185\n",
       "6                   145                 86             167\n",
       "7                   169                 63             174\n",
       "8                   178                 90             155\n",
       "9                   175                 83             173\n",
       "10                   62                 65             116\n",
       "11                   15                 41             115\n",
       "12                   19                 44             121\n",
       "13                   18                 53              89\n",
       "14                   11                 37              88\n",
       "15                   21                 48             102\n",
       "16                   22                 46              91\n",
       "17                   35                232             151\n",
       "18                   24                322             164\n",
       "19                   24                283             166\n",
       "20                   41                290             161\n",
       "21                   42                265             142\n",
       "22                   12                138             154\n",
       "23                   10                 81             103"
      ]
     },
     "execution_count": 69,
     "metadata": {},
     "output_type": "execute_result"
    }
   ],
   "source": [
    "pd.crosstab(df['request_hour'], df['status'])\n",
    "#Here, we need adequate domain knowledge to figure out why there are usually no cars available at peak hours"
   ]
  },
  {
   "cell_type": "markdown",
   "id": "8fd6b12e",
   "metadata": {},
   "source": [
    "***AIRPORT HOURLY PICK-UP***"
   ]
  },
  {
   "cell_type": "code",
   "execution_count": 70,
   "id": "1ea369dd",
   "metadata": {
    "scrolled": true
   },
   "outputs": [
    {
     "data": {
      "image/png": "[encoded data removed]",
      "text/plain": [
       "<Figure size 720x360 with 1 Axes>"
      ]
     },
     "metadata": {},
     "output_type": "display_data"
    }
   ],
   "source": [
    "#visualizing each pick-up region differently \n",
    "plt.figure(figsize = (10,5))\n",
    "df.query('pickup_point == \"Airport\"').groupby('request_hour')['request_id'].count().plot(kind = 'line');"
   ]
  },
  {
   "cell_type": "markdown",
   "id": "bf6684da",
   "metadata": {},
   "source": [
    "***CITY HOURLY PICK-UP***"
   ]
  },
  {
   "cell_type": "code",
   "execution_count": 71,
   "id": "1bcb5079",
   "metadata": {},
   "outputs": [
    {
     "data": {
      "image/png": "[encoded data removed]",
      "text/plain": [
       "<Figure size 720x360 with 1 Axes>"
      ]
     },
     "metadata": {},
     "output_type": "display_data"
    }
   ],
   "source": [
    "plt.figure(figsize = (10,5))\n",
    "df.query('pickup_point == \"City\"').groupby('request_hour')['request_id'].count().plot(kind = 'line');"
   ]
  },
  {
   "cell_type": "code",
   "execution_count": 72,
   "id": "93e1724c",
   "metadata": {},
   "outputs": [
    {
     "data": {
      "text/plain": [
       "City       0.52\n",
       "Airport    0.48\n",
       "Name: pickup_point, dtype: float64"
      ]
     },
     "execution_count": 72,
     "metadata": {},
     "output_type": "execute_result"
    }
   ],
   "source": [
    "df['pickup_point'].value_counts(normalize = 'True').round (3)\n",
    "#We can see here that 52% of the pick-ups happen in the City, while the airport has 48%"
   ]
  },
  {
   "cell_type": "code",
   "execution_count": 73,
   "id": "5b1565af",
   "metadata": {},
   "outputs": [
    {
     "data": {
      "image/png": "[encoded data removed]",
      "text/plain": [
       "<Figure size 576x432 with 1 Axes>"
      ]
     },
     "metadata": {},
     "output_type": "display_data"
    }
   ],
   "source": [
    "plt.figure(figsize=(8,6))\n",
    "plt.title('Distribution of trips')\n",
    "df['pickup_point'].value_counts(normalize = 'True').plot(kind = 'pie');"
   ]
  },
  {
   "cell_type": "markdown",
   "id": "0471c655",
   "metadata": {},
   "source": [
    "***Which days are the busiest?***"
   ]
  },
  {
   "cell_type": "code",
   "execution_count": 74,
   "id": "45eafc9e",
   "metadata": {},
   "outputs": [
    {
     "data": {
      "text/plain": [
       "count          6745\n",
       "unique            4\n",
       "top       Wednesday\n",
       "freq           2644\n",
       "Name: request_dayname, dtype: object"
      ]
     },
     "execution_count": 74,
     "metadata": {},
     "output_type": "execute_result"
    }
   ],
   "source": [
    "df['request_dayname'].describe()"
   ]
  },
  {
   "cell_type": "code",
   "execution_count": 75,
   "id": "632e7e72",
   "metadata": {},
   "outputs": [
    {
     "data": {
      "text/plain": [
       "Wednesday    2644\n",
       "Friday       1381\n",
       "Monday       1367\n",
       "Thursday     1353\n",
       "Name: request_dayname, dtype: int64"
      ]
     },
     "execution_count": 75,
     "metadata": {},
     "output_type": "execute_result"
    }
   ],
   "source": [
    "df['request_dayname'].value_counts()"
   ]
  },
  {
   "cell_type": "code",
   "execution_count": 76,
   "id": "3c19cf7c",
   "metadata": {},
   "outputs": [
    {
     "data": {
      "image/png": "[encoded data removed]",
      "text/plain": [
       "<Figure size 432x288 with 1 Axes>"
      ]
     },
     "metadata": {},
     "output_type": "display_data"
    }
   ],
   "source": [
    "df['request_dayname'].value_counts().plot(kind = 'bar');"
   ]
  },
  {
   "cell_type": "code",
   "execution_count": 77,
   "id": "9c07fcb6",
   "metadata": {},
   "outputs": [
    {
     "data": {
      "text/plain": [
       "July        4071\n",
       "November    1367\n",
       "December    1307\n",
       "Name: request_month, dtype: int64"
      ]
     },
     "execution_count": 77,
     "metadata": {},
     "output_type": "execute_result"
    }
   ],
   "source": [
    "df['request_month'].value_counts()\n",
    "#It is worth investigating why the dataset only has entries for 3 months "
   ]
  },
  {
   "cell_type": "code",
   "execution_count": 80,
   "id": "f8f7ff91",
   "metadata": {},
   "outputs": [
    {
     "data": {
      "image/png": "[encoded data removed]",
      "text/plain": [
       "<Figure size 720x576 with 1 Axes>"
      ]
     },
     "metadata": {},
     "output_type": "display_data"
    }
   ],
   "source": [
    "df['request_month'].value_counts().plot(kind = 'pie', figsize=(10,8))\n",
    "plt.title('Monthly Distribution');"
   ]
  },
  {
   "cell_type": "markdown",
   "id": "674ae656",
   "metadata": {},
   "source": [
    "***Driver analysis***\n",
    "\n",
    "Do some drivers cancel more?"
   ]
  },
  {
   "cell_type": "code",
   "execution_count": 81,
   "id": "09d155a2",
   "metadata": {},
   "outputs": [
    {
     "data": {
      "text/plain": [
       "0       285.0\n",
       "1         NaN\n",
       "2        80.0\n",
       "3         NaN\n",
       "4       264.0\n",
       "        ...  \n",
       "6740    267.0\n",
       "6741    224.0\n",
       "6742    243.0\n",
       "6743      NaN\n",
       "6744    108.0\n",
       "Name: driver_id, Length: 6745, dtype: float64"
      ]
     },
     "execution_count": 81,
     "metadata": {},
     "output_type": "execute_result"
    }
   ],
   "source": [
    "df['driver_id']"
   ]
  },
  {
   "cell_type": "code",
   "execution_count": 82,
   "id": "2fb9cf86",
   "metadata": {},
   "outputs": [
    {
     "data": {
      "text/plain": [
       "2650"
      ]
     },
     "execution_count": 82,
     "metadata": {},
     "output_type": "execute_result"
    }
   ],
   "source": [
    "df['driver_id'].isnull().sum()\n",
    "#Given the fact that ID is a unique entry,we need to check back with the company to discuss where there are so many null entries"
   ]
  },
  {
   "cell_type": "code",
   "execution_count": 83,
   "id": "5622e8d4",
   "metadata": {},
   "outputs": [
    {
     "data": {
      "text/html": [
       "<div>\n",
       "<style scoped>\n",
       "    .dataframe tbody tr th:only-of-type {\n",
       "        vertical-align: middle;\n",
       "    }\n",
       "\n",
       "    .dataframe tbody tr th {\n",
       "        vertical-align: top;\n",
       "    }\n",
       "\n",
       "    .dataframe thead th {\n",
       "        text-align: right;\n",
       "    }\n",
       "</style>\n",
       "<table border=\"1\" class=\"dataframe\">\n",
       "  <thead>\n",
       "    <tr style=\"text-align: right;\">\n",
       "      <th>status</th>\n",
       "      <th>Cancelled</th>\n",
       "      <th>Trip Completed</th>\n",
       "    </tr>\n",
       "    <tr>\n",
       "      <th>driver_id</th>\n",
       "      <th></th>\n",
       "      <th></th>\n",
       "    </tr>\n",
       "  </thead>\n",
       "  <tbody>\n",
       "    <tr>\n",
       "      <th>1.0</th>\n",
       "      <td>4</td>\n",
       "      <td>9</td>\n",
       "    </tr>\n",
       "    <tr>\n",
       "      <th>2.0</th>\n",
       "      <td>4</td>\n",
       "      <td>9</td>\n",
       "    </tr>\n",
       "    <tr>\n",
       "      <th>3.0</th>\n",
       "      <td>4</td>\n",
       "      <td>10</td>\n",
       "    </tr>\n",
       "    <tr>\n",
       "      <th>4.0</th>\n",
       "      <td>5</td>\n",
       "      <td>10</td>\n",
       "    </tr>\n",
       "    <tr>\n",
       "      <th>5.0</th>\n",
       "      <td>2</td>\n",
       "      <td>11</td>\n",
       "    </tr>\n",
       "    <tr>\n",
       "      <th>...</th>\n",
       "      <td>...</td>\n",
       "      <td>...</td>\n",
       "    </tr>\n",
       "    <tr>\n",
       "      <th>296.0</th>\n",
       "      <td>4</td>\n",
       "      <td>10</td>\n",
       "    </tr>\n",
       "    <tr>\n",
       "      <th>297.0</th>\n",
       "      <td>4</td>\n",
       "      <td>11</td>\n",
       "    </tr>\n",
       "    <tr>\n",
       "      <th>298.0</th>\n",
       "      <td>4</td>\n",
       "      <td>11</td>\n",
       "    </tr>\n",
       "    <tr>\n",
       "      <th>299.0</th>\n",
       "      <td>5</td>\n",
       "      <td>7</td>\n",
       "    </tr>\n",
       "    <tr>\n",
       "      <th>300.0</th>\n",
       "      <td>1</td>\n",
       "      <td>5</td>\n",
       "    </tr>\n",
       "  </tbody>\n",
       "</table>\n",
       "<p>300 rows × 2 columns</p>\n",
       "</div>"
      ],
      "text/plain": [
       "status     Cancelled  Trip Completed\n",
       "driver_id                           \n",
       "1.0                4               9\n",
       "2.0                4               9\n",
       "3.0                4              10\n",
       "4.0                5              10\n",
       "5.0                2              11\n",
       "...              ...             ...\n",
       "296.0              4              10\n",
       "297.0              4              11\n",
       "298.0              4              11\n",
       "299.0              5               7\n",
       "300.0              1               5\n",
       "\n",
       "[300 rows x 2 columns]"
      ]
     },
     "execution_count": 83,
     "metadata": {},
     "output_type": "execute_result"
    }
   ],
   "source": [
    "pd.crosstab(df['driver_id'], df['status'])"
   ]
  },
  {
   "cell_type": "code",
   "execution_count": 91,
   "id": "e34bcb33",
   "metadata": {},
   "outputs": [
    {
     "data": {
      "image/png": "[encoded data removed]",
      "text/plain": [
       "<Figure size 2160x1440 with 1 Axes>"
      ]
     },
     "metadata": {},
     "output_type": "display_data"
    }
   ],
   "source": [
    "grouped_data = pd.crosstab(df['driver_id'], df['status'])\n",
    "#plt.figure(figsize = (30,20))\n",
    "grouped_data.plot(kind = 'bar', stacked = True, figsize=(30,20))\n",
    "plt.title('ALL DRIVERS TRIP STATUS', fontsize=24, fontweight='bold')\n",
    "plt.legend();\n",
    "#Given that the data has 6000 rows and cannot be visulaised in a single grapgh, its best to cut it."
   ]
  },
  {
   "cell_type": "code",
   "execution_count": 92,
   "id": "f8d78c5f",
   "metadata": {},
   "outputs": [],
   "source": [
    "#getting a closer look\n",
    "df1 = df[df['driver_id'] < 51.0]"
   ]
  },
  {
   "cell_type": "code",
   "execution_count": 93,
   "id": "e8ce848e",
   "metadata": {
    "scrolled": false
   },
   "outputs": [
    {
     "data": {
      "image/png": "[encoded data removed]",
      "text/plain": [
       "<Figure size 864x576 with 1 Axes>"
      ]
     },
     "metadata": {},
     "output_type": "display_data"
    }
   ],
   "source": [
    "pd.crosstab(df1['driver_id'], df1['status']).plot(kind = 'bar', stacked = True, figsize=(12,8),color=['#4C72B0', '#55A868', '#C44E52', '#8172B2'])\n",
    "plt.title('DRIVERS TRIP STATUS', fontsize=16, fontweight='bold');\n",
    "#This shows us which drivers have the most cancelled trip. With adequate domain knowledge, we can further investigate as to why these drivers have canceled trips\n",
    "#we see that drivers like 11.0 and 12.0 have never had a trip cancelled. This would deserve commendation."
   ]
  },
  {
   "cell_type": "markdown",
   "id": "82c24957",
   "metadata": {},
   "source": [
    "***Number of trips per driver***"
   ]
  },
  {
   "cell_type": "code",
   "execution_count": 94,
   "id": "a6795aa6",
   "metadata": {},
   "outputs": [
    {
     "data": {
      "text/plain": [
       "300"
      ]
     },
     "execution_count": 94,
     "metadata": {},
     "output_type": "execute_result"
    }
   ],
   "source": [
    "df['driver_id'].nunique()\n",
    "#shows how many unique driver ID there is"
   ]
  },
  {
   "cell_type": "code",
   "execution_count": 95,
   "id": "20947efa",
   "metadata": {},
   "outputs": [
    {
     "data": {
      "text/plain": [
       "27.0     22\n",
       "177.0    21\n",
       "176.0    21\n",
       "84.0     21\n",
       "22.0     21\n",
       "Name: driver_id, dtype: int64"
      ]
     },
     "execution_count": 95,
     "metadata": {},
     "output_type": "execute_result"
    }
   ],
   "source": [
    "df['driver_id'].value_counts().head()\n",
    "#displays number of trips per driver randomly"
   ]
  },
  {
   "cell_type": "code",
   "execution_count": 96,
   "id": "5aa2d696",
   "metadata": {},
   "outputs": [
    {
     "data": {
      "text/plain": [
       "driver_id\n",
       "1.0      13\n",
       "2.0      13\n",
       "3.0      14\n",
       "4.0      15\n",
       "5.0      13\n",
       "         ..\n",
       "296.0    14\n",
       "297.0    15\n",
       "298.0    15\n",
       "299.0    12\n",
       "300.0     6\n",
       "Length: 300, dtype: int64"
      ]
     },
     "execution_count": 96,
     "metadata": {},
     "output_type": "execute_result"
    }
   ],
   "source": [
    "df.groupby('driver_id').size()\n",
    "#shows the number of trips per driver in descending order"
   ]
  },
  {
   "cell_type": "code",
   "execution_count": 102,
   "id": "a1226a74",
   "metadata": {},
   "outputs": [],
   "source": [
    "all_trips_per_driver = df.groupby('driver_id').size()"
   ]
  },
  {
   "cell_type": "code",
   "execution_count": 106,
   "id": "4bfb776a",
   "metadata": {},
   "outputs": [
    {
     "data": {
      "image/png": "[encoded data removed]",
      "text/plain": [
       "<Figure size 1584x864 with 1 Axes>"
      ]
     },
     "metadata": {},
     "output_type": "display_data"
    }
   ],
   "source": [
    "all_trips_per_driver.plot(kind = 'bar', figsize=(22,12), color = 'purple')\n",
    "plt.title('Complete Visulals Of Trips Per Driver', fontweight = 'bold', fontsize = 20)\n",
    "plt.xlabel('driver ID', fontsize = 16)\n",
    "plt.ylabel('Count', fontsize = 16);"
   ]
  },
  {
   "cell_type": "code",
   "execution_count": 107,
   "id": "2dd65932",
   "metadata": {},
   "outputs": [
    {
     "data": {
      "text/plain": [
       "driver_id\n",
       "1.0    13\n",
       "2.0    13\n",
       "3.0    14\n",
       "4.0    15\n",
       "5.0    13\n",
       "dtype: int64"
      ]
     },
     "execution_count": 107,
     "metadata": {},
     "output_type": "execute_result"
    }
   ],
   "source": [
    "#using the same split as above becasue of the size of the data for a closer visualization\n",
    "trips_per_driver = df1.groupby('driver_id').size()\n",
    "trips_per_driver.head()"
   ]
  },
  {
   "cell_type": "code",
   "execution_count": 108,
   "id": "17c9f3ee",
   "metadata": {
    "scrolled": false
   },
   "outputs": [
    {
     "data": {
      "image/png": "[encoded data removed]",
      "text/plain": [
       "<Figure size 864x576 with 1 Axes>"
      ]
     },
     "metadata": {},
     "output_type": "display_data"
    }
   ],
   "source": [
    "trips_per_driver.plot(kind = 'bar', figsize=(12,8), color='darkred')\n",
    "plt.title('Drivers Trip Count',fontweight = 'bold', fontsize = 16)\n",
    "plt.xlabel('driver_id', fontsize=12)\n",
    "plt.ylabel('Count', fontsize=12);"
   ]
  },
  {
   "cell_type": "code",
   "execution_count": 109,
   "id": "db900495",
   "metadata": {},
   "outputs": [
    {
     "data": {
      "image/png": "[encoded data removed]",
      "text/plain": [
       "<Figure size 864x432 with 1 Axes>"
      ]
     },
     "metadata": {},
     "output_type": "display_data"
    }
   ],
   "source": [
    "#checking other drivers \n",
    "df2 = df[df['driver_id'] > 240.0]\n",
    "trips_per_driver_2 = df2.groupby('driver_id').size()\n",
    "trips_per_driver_2.plot(kind='bar', figsize=(12,6))\n",
    "plt.title('Drivers Trip Count',fontweight = 'bold', fontsize = 16);"
   ]
  },
  {
   "cell_type": "markdown",
   "id": "67194188",
   "metadata": {},
   "source": [
    "## <font color= darkred> Time Spend By Drivers On Each Trip </font> "
   ]
  },
  {
   "cell_type": "code",
   "execution_count": 110,
   "id": "a8024b13",
   "metadata": {
    "scrolled": true
   },
   "outputs": [
    {
     "data": {
      "text/plain": [
       "count                          2831\n",
       "mean      0 days 10:45:58.240904274\n",
       "std      10 days 07:07:53.473784496\n",
       "min              -30 days +22:45:00\n",
       "25%               -1 days +22:56:00\n",
       "50%               -1 days +23:08:00\n",
       "75%               -1 days +23:19:00\n",
       "max               147 days 23:27:00\n",
       "Name: time_stamp, dtype: object"
      ]
     },
     "execution_count": 110,
     "metadata": {},
     "output_type": "execute_result"
    }
   ],
   "source": [
    "df['time_stamp'].describe()"
   ]
  },
  {
   "cell_type": "code",
   "execution_count": 120,
   "id": "f34f5c03",
   "metadata": {
    "scrolled": false
   },
   "outputs": [],
   "source": [
    "#converting the time columns and filling the null entries with 0 and NAT\n",
    "\n",
    "df['drop_timestamp'] = df['drop_timestamp'].fillna(pd.NaT)\n",
    "df['request_timestamp'] = df['request_timestamp'].fillna(0)\n"
   ]
  },
  {
   "cell_type": "code",
   "execution_count": 166,
   "id": "6f3a9a57",
   "metadata": {
    "scrolled": true
   },
   "outputs": [
    {
     "data": {
      "text/plain": [
       "driver_id\n",
       "1.0       0 days 00:38:00\n",
       "2.0       0 days 00:47:00\n",
       "3.0       0 days 00:38:00\n",
       "4.0       0 days 00:32:00\n",
       "5.0       0 days 00:38:00\n",
       "               ...       \n",
       "296.0   176 days 23:41:00\n",
       "297.0     0 days 00:34:00\n",
       "298.0     0 days 00:31:00\n",
       "299.0     0 days 00:31:00\n",
       "300.0     0 days 00:36:00\n",
       "Name: time_stamp, Length: 300, dtype: timedelta64[ns]"
      ]
     },
     "execution_count": 166,
     "metadata": {},
     "output_type": "execute_result"
    }
   ],
   "source": [
    "#Using the apply() method with a lambda function to calculate the duration of time for each driver, by subtracting the earliest time stamp from the latest time stamp. \n",
    "total_driver_time = df.groupby('driver_id')['time_stamp'].apply(lambda x: x.max() - x.min())\n",
    "total_driver_time"
   ]
  },
  {
   "cell_type": "code",
   "execution_count": 159,
   "id": "d3c8ef7f",
   "metadata": {},
   "outputs": [],
   "source": [
    "#using the reset_index() to convert the resulting Pandas Series to a DataFrame with columns for the driver IDs and the calculated duration of time for each driver.\n",
    "driver_duration = df.groupby('driver_id')['time_stamp'].apply(lambda x: (x.max() - x.min()).total_seconds() / 3600.0)\n",
    "driver_duration = driver_duration.reset_index(name='duration')"
   ]
  },
  {
   "cell_type": "code",
   "execution_count": 160,
   "id": "02001c3c",
   "metadata": {},
   "outputs": [
    {
     "data": {
      "text/html": [
       "<div>\n",
       "<style scoped>\n",
       "    .dataframe tbody tr th:only-of-type {\n",
       "        vertical-align: middle;\n",
       "    }\n",
       "\n",
       "    .dataframe tbody tr th {\n",
       "        vertical-align: top;\n",
       "    }\n",
       "\n",
       "    .dataframe thead th {\n",
       "        text-align: right;\n",
       "    }\n",
       "</style>\n",
       "<table border=\"1\" class=\"dataframe\">\n",
       "  <thead>\n",
       "    <tr style=\"text-align: right;\">\n",
       "      <th></th>\n",
       "      <th>driver_id</th>\n",
       "      <th>duration</th>\n",
       "    </tr>\n",
       "  </thead>\n",
       "  <tbody>\n",
       "    <tr>\n",
       "      <th>0</th>\n",
       "      <td>1.0</td>\n",
       "      <td>0.633333</td>\n",
       "    </tr>\n",
       "    <tr>\n",
       "      <th>1</th>\n",
       "      <td>2.0</td>\n",
       "      <td>0.783333</td>\n",
       "    </tr>\n",
       "    <tr>\n",
       "      <th>2</th>\n",
       "      <td>3.0</td>\n",
       "      <td>0.633333</td>\n",
       "    </tr>\n",
       "    <tr>\n",
       "      <th>3</th>\n",
       "      <td>4.0</td>\n",
       "      <td>0.533333</td>\n",
       "    </tr>\n",
       "    <tr>\n",
       "      <th>4</th>\n",
       "      <td>5.0</td>\n",
       "      <td>0.633333</td>\n",
       "    </tr>\n",
       "    <tr>\n",
       "      <th>...</th>\n",
       "      <td>...</td>\n",
       "      <td>...</td>\n",
       "    </tr>\n",
       "    <tr>\n",
       "      <th>295</th>\n",
       "      <td>296.0</td>\n",
       "      <td>4247.683333</td>\n",
       "    </tr>\n",
       "    <tr>\n",
       "      <th>296</th>\n",
       "      <td>297.0</td>\n",
       "      <td>0.566667</td>\n",
       "    </tr>\n",
       "    <tr>\n",
       "      <th>297</th>\n",
       "      <td>298.0</td>\n",
       "      <td>0.516667</td>\n",
       "    </tr>\n",
       "    <tr>\n",
       "      <th>298</th>\n",
       "      <td>299.0</td>\n",
       "      <td>0.516667</td>\n",
       "    </tr>\n",
       "    <tr>\n",
       "      <th>299</th>\n",
       "      <td>300.0</td>\n",
       "      <td>0.600000</td>\n",
       "    </tr>\n",
       "  </tbody>\n",
       "</table>\n",
       "<p>300 rows × 2 columns</p>\n",
       "</div>"
      ],
      "text/plain": [
       "     driver_id     duration\n",
       "0          1.0     0.633333\n",
       "1          2.0     0.783333\n",
       "2          3.0     0.633333\n",
       "3          4.0     0.533333\n",
       "4          5.0     0.633333\n",
       "..         ...          ...\n",
       "295      296.0  4247.683333\n",
       "296      297.0     0.566667\n",
       "297      298.0     0.516667\n",
       "298      299.0     0.516667\n",
       "299      300.0     0.600000\n",
       "\n",
       "[300 rows x 2 columns]"
      ]
     },
     "execution_count": 160,
     "metadata": {},
     "output_type": "execute_result"
    }
   ],
   "source": [
    "driver_duration"
   ]
  },
  {
   "cell_type": "code",
   "execution_count": 161,
   "id": "9a04f9b4",
   "metadata": {},
   "outputs": [
    {
     "data": {
      "text/html": [
       "<div>\n",
       "<style scoped>\n",
       "    .dataframe tbody tr th:only-of-type {\n",
       "        vertical-align: middle;\n",
       "    }\n",
       "\n",
       "    .dataframe tbody tr th {\n",
       "        vertical-align: top;\n",
       "    }\n",
       "\n",
       "    .dataframe thead th {\n",
       "        text-align: right;\n",
       "    }\n",
       "</style>\n",
       "<table border=\"1\" class=\"dataframe\">\n",
       "  <thead>\n",
       "    <tr style=\"text-align: right;\">\n",
       "      <th></th>\n",
       "      <th>driver_id</th>\n",
       "      <th>duration</th>\n",
       "    </tr>\n",
       "  </thead>\n",
       "  <tbody>\n",
       "    <tr>\n",
       "      <th>count</th>\n",
       "      <td>300.000000</td>\n",
       "      <td>300.000000</td>\n",
       "    </tr>\n",
       "    <tr>\n",
       "      <th>mean</th>\n",
       "      <td>150.500000</td>\n",
       "      <td>198.618333</td>\n",
       "    </tr>\n",
       "    <tr>\n",
       "      <th>std</th>\n",
       "      <td>86.746758</td>\n",
       "      <td>745.935035</td>\n",
       "    </tr>\n",
       "    <tr>\n",
       "      <th>min</th>\n",
       "      <td>1.000000</td>\n",
       "      <td>0.166667</td>\n",
       "    </tr>\n",
       "    <tr>\n",
       "      <th>25%</th>\n",
       "      <td>75.750000</td>\n",
       "      <td>0.583333</td>\n",
       "    </tr>\n",
       "    <tr>\n",
       "      <th>50%</th>\n",
       "      <td>150.500000</td>\n",
       "      <td>0.666667</td>\n",
       "    </tr>\n",
       "    <tr>\n",
       "      <th>75%</th>\n",
       "      <td>225.250000</td>\n",
       "      <td>0.783333</td>\n",
       "    </tr>\n",
       "    <tr>\n",
       "      <th>max</th>\n",
       "      <td>300.000000</td>\n",
       "      <td>4247.683333</td>\n",
       "    </tr>\n",
       "  </tbody>\n",
       "</table>\n",
       "</div>"
      ],
      "text/plain": [
       "        driver_id     duration\n",
       "count  300.000000   300.000000\n",
       "mean   150.500000   198.618333\n",
       "std     86.746758   745.935035\n",
       "min      1.000000     0.166667\n",
       "25%     75.750000     0.583333\n",
       "50%    150.500000     0.666667\n",
       "75%    225.250000     0.783333\n",
       "max    300.000000  4247.683333"
      ]
     },
     "execution_count": 161,
     "metadata": {},
     "output_type": "execute_result"
    }
   ],
   "source": [
    "driver_duration.describe()"
   ]
  },
  {
   "cell_type": "code",
   "execution_count": 171,
   "id": "5f724ed1",
   "metadata": {},
   "outputs": [
    {
     "data": {
      "image/png": "[encoded data removed]",
      "text/plain": [
       "<Figure size 1440x720 with 1 Axes>"
      ]
     },
     "metadata": {},
     "output_type": "display_data"
    }
   ],
   "source": [
    "# plot a bar chart of the duration of time for each driver\n",
    "plt.figure(figsize=(20,10))\n",
    "plt.bar(driver_duration['driver_id'], driver_duration['duration'])\n",
    "plt.xlabel('Driver ID')\n",
    "plt.ylabel('Duration (hours)')\n",
    "plt.xticks(range(10,300,10))\n",
    "plt.show()"
   ]
  },
  {
   "cell_type": "markdown",
   "id": "4cb35434",
   "metadata": {},
   "source": [
    " **At the end of this analysis, i was able to identify the root causes of the problem;Some of which includes:**\n",
    "\n",
    "**-None availability of cars, cancellation of trips. The analysis shows that 39% of the time that a ride is ordered, there is no car available. The firm should look into this and if possible, make more cars available.**\n",
    "\n",
    "**-A lot of drivers are making cancellation. with adequate domain knowledge and/or interviews, one should be able to determine the reason for the cacellations.**\n",
    "\n",
    "**-The data shows that the average time spent on each trip is 10 hours, which indicates that the trips are relatively long ones. Introducing shorter trips might solve the problem of high rate of cancellations and cars availability.**"
   ]
  },
  {
   "cell_type": "code",
   "execution_count": null,
   "id": "baabfefa",
   "metadata": {},
   "outputs": [],
   "source": []
  }
 ],
 "metadata": {
  "kernelspec": {
   "display_name": "Python 3 (ipykernel)",
   "language": "python",
   "name": "python3"
  },
  "language_info": {
   "codemirror_mode": {
    "name": "ipython",
    "version": 3
   },
   "file_extension": ".py",
   "mimetype": "text/x-python",
   "name": "python",
   "nbconvert_exporter": "python",
   "pygments_lexer": "ipython3",
   "version": "3.9.12"
  }
 },
 "nbformat": 4,
 "nbformat_minor": 5
}
